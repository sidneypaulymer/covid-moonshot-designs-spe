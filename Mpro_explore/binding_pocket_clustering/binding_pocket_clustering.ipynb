{
 "cells": [
  {
   "cell_type": "code",
   "execution_count": 1,
   "metadata": {},
   "outputs": [],
   "source": [
    "%matplotlib inline"
   ]
  },
  {
   "cell_type": "code",
   "execution_count": 2,
   "metadata": {},
   "outputs": [],
   "source": [
    "import numpy as np\n",
    "from matplotlib import pyplot as plt\n",
    "from scipy.cluster.hierarchy import dendrogram, single, cophenet, fcluster"
   ]
  },
  {
   "cell_type": "code",
   "execution_count": 3,
   "metadata": {},
   "outputs": [
    {
     "name": "stderr",
     "output_type": "stream",
     "text": [
      "/Users/sid/miniconda3/envs/conda-forge-only/lib/python3.7/site-packages/ipykernel_launcher.py:1: VisibleDeprecationWarning: Reading unicode strings without specifying the encoding argument is deprecated. Set the encoding, use None for the system default.\n",
      "  \"\"\"Entry point for launching an IPython kernel.\n"
     ]
    }
   ],
   "source": [
    "dist_dat = np.genfromtxt(\"binding_pocket_clustering_1a_sort.txt\", names=True, dtype=None)\n",
    "distmat = dist_dat[\"dist\"]\n",
    "structs = np.unique(np.concatenate((dist_dat[\"I\"], dist_dat[\"J\"])))"
   ]
  },
  {
   "cell_type": "code",
   "execution_count": 4,
   "metadata": {},
   "outputs": [
    {
     "name": "stdout",
     "output_type": "stream",
     "text": [
      "22\n"
     ]
    },
    {
     "data": {
      "text/plain": [
       "array([b'x0072', b'x0104', b'x0107', b'x0161', b'x0195', b'x0305',\n",
       "       b'x0354', b'x0387', b'x0395', b'x0397', b'x0426', b'x0434',\n",
       "       b'x0540', b'x0678', b'x0874', b'x0946', b'x0967', b'x0991',\n",
       "       b'x0995', b'x1077', b'x1093', b'x1249'], dtype='|S5')"
      ]
     },
     "execution_count": 4,
     "metadata": {},
     "output_type": "execute_result"
    }
   ],
   "source": [
    "print(len(structs))\n",
    "structs"
   ]
  },
  {
   "cell_type": "code",
   "execution_count": 5,
   "metadata": {},
   "outputs": [
    {
     "data": {
      "text/plain": [
       "0.9366547894165618"
      ]
     },
     "execution_count": 5,
     "metadata": {},
     "output_type": "execute_result"
    }
   ],
   "source": [
    "Z = single(distmat)\n",
    "c, coph_dists = cophenet(Z, distmat)\n",
    "c\n",
    "## \"This (very very briefly) compares (correlates) the actual pairwise distances of all your samples to those implied by the hierarchical clustering. The closer the value is to 1, the better the clustering preserves the original distances\"\n",
    "## https://joernhees.de/blog/2015/08/26/scipy-hierarchical-clustering-and-dendrogram-tutorial/"
   ]
  },
  {
   "cell_type": "code",
   "execution_count": 6,
   "metadata": {},
   "outputs": [
    {
     "data": {
      "image/png": "[encoded data removed]",
      "text/plain": [
       "<Figure size 1800x720 with 1 Axes>"
      ]
     },
     "metadata": {
      "needs_background": "light"
     },
     "output_type": "display_data"
    }
   ],
   "source": [
    "plt.figure(figsize=(25, 10))\n",
    "plt.title('Hierarchical Clustering Dendrogram')\n",
    "plt.xlabel('sample index')\n",
    "plt.ylabel('distance')\n",
    "dendrogram(\n",
    "    Z,\n",
    "    leaf_rotation=90.,  # rotates the x axis labels\n",
    "    leaf_font_size=8.,  # font size for the x axis labels\n",
    "    color_threshold=0.4,\n",
    ")\n",
    "plt.show()"
   ]
  },
  {
   "cell_type": "code",
   "execution_count": 7,
   "metadata": {},
   "outputs": [
    {
     "data": {
      "text/plain": [
       "array([[17.   , 18.   ,  0.175,  2.   ],\n",
       "       [ 1.   , 15.   ,  0.185,  2.   ],\n",
       "       [ 2.   , 22.   ,  0.309,  3.   ],\n",
       "       [ 5.   , 14.   ,  0.309,  2.   ],\n",
       "       [ 9.   , 24.   ,  0.315,  4.   ],\n",
       "       [ 8.   , 23.   ,  0.34 ,  3.   ],\n",
       "       [25.   , 27.   ,  0.344,  5.   ],\n",
       "       [11.   , 28.   ,  0.449,  6.   ],\n",
       "       [ 0.   , 26.   ,  0.547,  5.   ],\n",
       "       [10.   , 21.   ,  0.573,  2.   ],\n",
       "       [29.   , 31.   ,  0.597,  8.   ],\n",
       "       [ 4.   , 32.   ,  0.62 ,  9.   ],\n",
       "       [19.   , 33.   ,  0.646, 10.   ],\n",
       "       [30.   , 34.   ,  0.679, 15.   ],\n",
       "       [13.   , 35.   ,  0.709, 16.   ],\n",
       "       [16.   , 36.   ,  0.717, 17.   ],\n",
       "       [12.   , 37.   ,  0.877, 18.   ],\n",
       "       [20.   , 38.   ,  0.96 , 19.   ],\n",
       "       [ 7.   , 39.   ,  0.997, 20.   ],\n",
       "       [ 3.   , 40.   ,  1.186, 21.   ],\n",
       "       [ 6.   , 41.   ,  1.583, 22.   ]])"
      ]
     },
     "execution_count": 7,
     "metadata": {},
     "output_type": "execute_result"
    }
   ],
   "source": [
    "Z"
   ]
  },
  {
   "cell_type": "code",
   "execution_count": 8,
   "metadata": {},
   "outputs": [
    {
     "data": {
      "text/plain": [
       "array([ 2,  3,  1, 14,  7,  3, 15, 13,  3,  1,  5,  4, 11,  9,  3,  3, 10,\n",
       "        1,  1,  8, 12,  6], dtype=int32)"
      ]
     },
     "execution_count": 8,
     "metadata": {},
     "output_type": "execute_result"
    }
   ],
   "source": [
    "max_d = 0.4\n",
    "clusters = fcluster(Z, max_d, criterion='distance')\n",
    "clusters"
   ]
  },
  {
   "cell_type": "code",
   "execution_count": 11,
   "metadata": {},
   "outputs": [
    {
     "data": {
      "text/plain": [
       "[(0, b'x0072', 2),\n",
       " (1, b'x0104', 3),\n",
       " (2, b'x0107', 1),\n",
       " (3, b'x0161', 14),\n",
       " (4, b'x0195', 7),\n",
       " (5, b'x0305', 3),\n",
       " (6, b'x0354', 15),\n",
       " (7, b'x0387', 13),\n",
       " (8, b'x0395', 3),\n",
       " (9, b'x0397', 1),\n",
       " (10, b'x0426', 5),\n",
       " (11, b'x0434', 4),\n",
       " (12, b'x0540', 11),\n",
       " (13, b'x0678', 9),\n",
       " (14, b'x0874', 3),\n",
       " (15, b'x0946', 3),\n",
       " (16, b'x0967', 10),\n",
       " (17, b'x0991', 1),\n",
       " (18, b'x0995', 1),\n",
       " (19, b'x1077', 8),\n",
       " (20, b'x1093', 12),\n",
       " (21, b'x1249', 6)]"
      ]
     },
     "execution_count": 11,
     "metadata": {},
     "output_type": "execute_result"
    }
   ],
   "source": [
    "clust_names = [(i, p, clusters[i]) for i, p in enumerate(structs)]\n",
    "clust_names"
   ]
  },
  {
   "cell_type": "code",
   "execution_count": null,
   "metadata": {},
   "outputs": [],
   "source": []
  }
 ],
 "metadata": {
  "kernelspec": {
   "display_name": "Python [conda env:conda-forge-only]",
   "language": "python",
   "name": "conda-env-conda-forge-only-py"
  },
  "language_info": {
   "codemirror_mode": {
    "name": "ipython",
    "version": 3
   },
   "file_extension": ".py",
   "mimetype": "text/x-python",
   "name": "python",
   "nbconvert_exporter": "python",
   "pygments_lexer": "ipython3",
   "version": "3.7.3"
  }
 },
 "nbformat": 4,
 "nbformat_minor": 2
}
